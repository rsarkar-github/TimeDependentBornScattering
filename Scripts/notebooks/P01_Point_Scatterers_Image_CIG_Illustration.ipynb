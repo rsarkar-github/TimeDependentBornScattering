{
 "cells": [
  {
   "cell_type": "markdown",
   "id": "c0595253",
   "metadata": {},
   "source": [
    "## Import libraries"
   ]
  },
  {
   "cell_type": "code",
   "execution_count": 6,
   "id": "5b75bace",
   "metadata": {},
   "outputs": [],
   "source": [
    "import sys, os\n",
    "\n",
    "basepath = os.path.abspath(\"../..\")\n",
    "sys.path.append(basepath)\n",
    "sys.path.append(basepath + \"/Operators\")\n",
    "sys.path.append(basepath + \"/Utilities\")\n",
    "\n",
    "import numpy as np\n",
    "import scipy as sp\n",
    "import time\n",
    "import matplotlib.pyplot as plt\n",
    "%matplotlib inline\n",
    "\n",
    "import DevitoOperators\n",
    "from DevitoUtils import create_model, plot_image, plot_image_tx, plot_shotrecord\n",
    "from examples.seismic.acoustic import AcousticWaveSolver\n",
    "from examples.seismic import plot_velocity, plot_perturbation, demo_model, AcquisitionGeometry\n",
    "\n",
    "from devito import configuration\n",
    "configuration['log-level'] = 'WARNING'\n",
    "\n",
    "from devito import configuration\n",
    "configuration['log-level'] = 'WARNING'"
   ]
  },
  {
   "cell_type": "markdown",
   "id": "9fb7e488",
   "metadata": {},
   "source": [
    "## Code to run"
   ]
  },
  {
   "cell_type": "code",
   "execution_count": 7,
   "id": "63038c43",
   "metadata": {},
   "outputs": [
    {
     "ename": "AttributeError",
     "evalue": "'numpy.ndarray' object has no attribute 'domain_size'",
     "output_type": "error",
     "traceback": [
      "\u001b[0;31m---------------------------------------------------------------------------\u001b[0m",
      "\u001b[0;31mAttributeError\u001b[0m                            Traceback (most recent call last)",
      "Cell \u001b[0;32mIn[7], line 58\u001b[0m\n\u001b[1;32m     55\u001b[0m \u001b[38;5;28;01mfor\u001b[39;00m i \u001b[38;5;129;01min\u001b[39;00m \u001b[38;5;28mrange\u001b[39m(params[\u001b[38;5;124m\"\u001b[39m\u001b[38;5;124mNt\u001b[39m\u001b[38;5;124m\"\u001b[39m]):\n\u001b[1;32m     56\u001b[0m     dm[i, :, :] \u001b[38;5;241m=\u001b[39m temp\n\u001b[0;32m---> 58\u001b[0m \u001b[43mplot_image\u001b[49m\u001b[43m(\u001b[49m\u001b[43mdm\u001b[49m\u001b[43m[\u001b[49m\u001b[38;5;241;43m0\u001b[39;49m\u001b[43m,\u001b[49m\u001b[43m \u001b[49m\u001b[43m:\u001b[49m\u001b[43m,\u001b[49m\u001b[43m \u001b[49m\u001b[43m:\u001b[49m\u001b[43m]\u001b[49m\u001b[43m,\u001b[49m\u001b[43m \u001b[49m\u001b[43mcolorbar\u001b[49m\u001b[38;5;241;43m=\u001b[39;49m\u001b[38;5;28;43;01mFalse\u001b[39;49;00m\u001b[43m,\u001b[49m\u001b[43m \u001b[49m\u001b[43mcolormap\u001b[49m\u001b[38;5;241;43m=\u001b[39;49m\u001b[38;5;124;43m\"\u001b[39;49m\u001b[38;5;124;43mGreys\u001b[39;49m\u001b[38;5;124;43m\"\u001b[39;49m\u001b[43m)\u001b[49m\n",
      "File \u001b[0;32m~/Research/Thesis/TimeDependentBornScattering/Utilities/DevitoUtils.py:41\u001b[0m, in \u001b[0;36mplot_image\u001b[0;34m(model, source, receiver, colorbar, colormap, clip)\u001b[0m\n\u001b[1;32m     28\u001b[0m \u001b[38;5;28;01mdef\u001b[39;00m \u001b[38;5;21mplot_image\u001b[39m(model, source\u001b[38;5;241m=\u001b[39m\u001b[38;5;28;01mNone\u001b[39;00m, receiver\u001b[38;5;241m=\u001b[39m\u001b[38;5;28;01mNone\u001b[39;00m, colorbar\u001b[38;5;241m=\u001b[39m\u001b[38;5;28;01mTrue\u001b[39;00m, colormap\u001b[38;5;241m=\u001b[39m\u001b[38;5;124m'\u001b[39m\u001b[38;5;124mjet\u001b[39m\u001b[38;5;124m'\u001b[39m, clip\u001b[38;5;241m=\u001b[39m\u001b[38;5;241m1.0\u001b[39m):\n\u001b[1;32m     29\u001b[0m \u001b[38;5;250m    \u001b[39m\u001b[38;5;124;03m\"\"\"\u001b[39;00m\n\u001b[1;32m     30\u001b[0m \u001b[38;5;124;03m    Plot a two-dimensional velocity field from a seismic `Model`\u001b[39;00m\n\u001b[1;32m     31\u001b[0m \u001b[38;5;124;03m    object. Optionally also includes point markers for sources and receivers.\u001b[39;00m\n\u001b[0;32m   (...)\u001b[0m\n\u001b[1;32m     39\u001b[0m \u001b[38;5;124;03m    clip: Controls min / max of color bar (1.0 means full range)\u001b[39;00m\n\u001b[1;32m     40\u001b[0m \u001b[38;5;124;03m    \"\"\"\u001b[39;00m\n\u001b[0;32m---> 41\u001b[0m     domain_size \u001b[38;5;241m=\u001b[39m \u001b[38;5;241m1.e-3\u001b[39m \u001b[38;5;241m*\u001b[39m np\u001b[38;5;241m.\u001b[39marray(\u001b[43mmodel\u001b[49m\u001b[38;5;241;43m.\u001b[39;49m\u001b[43mdomain_size\u001b[49m)\n\u001b[1;32m     42\u001b[0m     extent \u001b[38;5;241m=\u001b[39m [model\u001b[38;5;241m.\u001b[39morigin[\u001b[38;5;241m0\u001b[39m], model\u001b[38;5;241m.\u001b[39morigin[\u001b[38;5;241m0\u001b[39m] \u001b[38;5;241m+\u001b[39m domain_size[\u001b[38;5;241m0\u001b[39m],\n\u001b[1;32m     43\u001b[0m               model\u001b[38;5;241m.\u001b[39morigin[\u001b[38;5;241m1\u001b[39m] \u001b[38;5;241m+\u001b[39m domain_size[\u001b[38;5;241m1\u001b[39m], model\u001b[38;5;241m.\u001b[39morigin[\u001b[38;5;241m1\u001b[39m]]\n\u001b[1;32m     45\u001b[0m     slices \u001b[38;5;241m=\u001b[39m \u001b[38;5;28mtuple\u001b[39m(\u001b[38;5;28mslice\u001b[39m(model\u001b[38;5;241m.\u001b[39mnbl, \u001b[38;5;241m-\u001b[39mmodel\u001b[38;5;241m.\u001b[39mnbl) \u001b[38;5;28;01mfor\u001b[39;00m _ \u001b[38;5;129;01min\u001b[39;00m \u001b[38;5;28mrange\u001b[39m(\u001b[38;5;241m2\u001b[39m))\n",
      "\u001b[0;31mAttributeError\u001b[0m: 'numpy.ndarray' object has no attribute 'domain_size'"
     ]
    }
   ],
   "source": [
    "filestr = \"point_scatterers_image_cig\"\n",
    "\n",
    "# Create params dicts\n",
    "params = {\n",
    "    \"Nx\": 300,\n",
    "    \"Nz\": 100,\n",
    "    \"Nt\": 100,   # this has to be updated later\n",
    "    \"nbl\": 75,\n",
    "    \"Ns\": 1,\n",
    "    \"Nr\": 300,\n",
    "    \"so\": 4,\n",
    "    \"to\": 2\n",
    "}\n",
    "\n",
    "# Create velocity\n",
    "vel = create_model(shape=(params[\"Nx\"], params[\"Nz\"]))\n",
    "vel.vp.data[:, :] = 2.0\n",
    "\n",
    "# Simulation time, wavelet\n",
    "t0 = 0.\n",
    "tn = 2000.  # Simulation last 2 second (2000 ms)\n",
    "f0 = 0.010  # Source peak frequency is 10Hz (0.010 kHz)\n",
    "\n",
    "# Reflection acquisition geometry (sources and receivers are equally spaced in X direction)\n",
    "src_depth = 20.0  # Depth is 20m\n",
    "rec_depth = 20.0  # Depth is 20m\n",
    "\n",
    "src_coord = np.empty((params[\"Ns\"], 2))\n",
    "src_coord[:, 0] = np.linspace(0, vel.domain_size[0], num=params[\"Ns\"])\n",
    "src_coord[:, 1] = src_depth\n",
    "\n",
    "rec_coord = np.empty((params[\"Nr\"], 2))\n",
    "rec_coord[:, 0] = np.linspace(0, vel.domain_size[0], num=params[\"Nr\"])\n",
    "rec_coord[:, 1] = rec_depth\n",
    "\n",
    "# Create the geometry objects for background velocity models\n",
    "src_dummy = np.empty((1, 2))\n",
    "\n",
    "src_dummy[0, :] = src_coord[int(src_coord.shape[0] / 2), :]\n",
    "geometry = AcquisitionGeometry(vel, rec_coord, src_dummy, t0, tn, f0=f0, src_type='Ricker')\n",
    "params[\"Nt\"] = geometry.nt\n",
    "del src_dummy\n",
    "\n",
    "# Define a solver object\n",
    "solver = AcousticWaveSolver(vel, geometry, space_order=params[\"so\"])\n",
    "\n",
    "# Create point scatterers\n",
    "dm = np.zeros((params[\"Nt\"], params[\"Nx\"], params[\"Nz\"]), dtype=np.float32)\n",
    "temp = np.zeros((params[\"Nx\"], params[\"Nz\"]), dtype=np.float32)\n",
    "temp[int(params[\"Nx\"] / 2), int(params[\"Nz\"] * 0.2)] = 1.0\n",
    "temp[int(params[\"Nx\"] / 2), int(params[\"Nz\"] * 0.4)] = 1.0\n",
    "temp[int(params[\"Nx\"] / 2), int(params[\"Nz\"] * 0.6)] = 1.0\n",
    "temp[int(params[\"Nx\"] / 2), int(params[\"Nz\"] * 0.8)] = 1.0\n",
    "temp = sp.ndimage.gaussian_filter(input=temp, sigma=1, mode=\"nearest\")\n",
    "for i in range(params[\"Nt\"]):\n",
    "    dm[i, :, :] = temp\n",
    "\n",
    "plot_image(dm[0, :, :], colorbar=False, colormap=\"Greys\")"
   ]
  },
  {
   "cell_type": "code",
   "execution_count": null,
   "id": "36d3c997",
   "metadata": {},
   "outputs": [],
   "source": []
  }
 ],
 "metadata": {
  "kernelspec": {
   "display_name": "Python [conda env:tdborn]",
   "language": "python",
   "name": "conda-env-tdborn-py"
  },
  "language_info": {
   "codemirror_mode": {
    "name": "ipython",
    "version": 3
   },
   "file_extension": ".py",
   "mimetype": "text/x-python",
   "name": "python",
   "nbconvert_exporter": "python",
   "pygments_lexer": "ipython3",
   "version": "3.9.16"
  }
 },
 "nbformat": 4,
 "nbformat_minor": 5
}
